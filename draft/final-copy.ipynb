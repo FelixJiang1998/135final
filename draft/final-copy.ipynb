{
 "cells": [
  {
   "cell_type": "code",
   "source": [
    "import torch\n",
    "import torch.nn as nn\n",
    "import torchvision.transforms as transforms\n",
    "from PIL import Image\n",
    "from torch.utils.data import DataLoader, Subset, Dataset, ConcatDataset\n",
    "from torchvision.datasets import DatasetFolder\n",
    "import matplotlib.pyplot as plt\n",
    "import numpy as np\n",
    "import time \n",
    "from sklearn.manifold import TSNE"
   ],
   "outputs": [
    {
     "output_type": "stream",
     "name": "stderr",
     "text": "/anaconda/envs/azureml_py38_PT_TF/lib/python3.8/site-packages/tqdm/auto.py:22: TqdmWarning: IProgress not found. Please update jupyter and ipywidgets. See https://ipywidgets.readthedocs.io/en/stable/user_install.html\n  from .autonotebook import tqdm as notebook_tqdm\n"
    }
   ],
   "execution_count": 1,
   "metadata": {
    "gather": {
     "logged": 1651472098919
    },
    "pycharm": {
     "name": "#%%\n"
    }
   }
  },
  {
   "cell_type": "markdown",
   "source": [
    "Neuro network structure:  \n",
    "Layer1: 3 \\* 3 \\* 64 filter with stride of 1, padding of 1 and max pooling of 2 \\* 2.  \n",
    "Layer2: 3 \\* 3 \\* 128 filter with stride of 1, padding of 1 and max pooling of 2 \\* 2.  \n",
    "Layer3: 3 \\* 3 \\* 256 filter with stride of 1, padding of 1 and max pooling of 2 \\* 2.  \n",
    "Fully connected layer: 256 \\* 16 \\* 16 -> 256, 1 -> 4 (items of class)"
   ],
   "metadata": {
    "nteract": {
     "transient": {
      "deleting": false
     }
    },
    "pycharm": {
     "name": "#%% md\n"
    }
   }
  },
  {
   "cell_type": "code",
   "source": [
    "class NeuroNetwork(nn.Module):\n",
    "    def __init__(self):\n",
    "        super(NeuroNetwork, self).__init__()\n",
    "        first_layer = 64\n",
    "        second_layer = 128\n",
    "        third_layer = 256\n",
    "        forth_layer = 512\n",
    "        fc_layer = 1024\n",
    "        output = 4\n",
    "        self.cnn_layers = nn.Sequential(\n",
    "            # First layer\n",
    "            nn.Conv2d(in_channels=3,  # RGB 3 layer3\n",
    "                      out_channels=first_layer,  # Output layer -- the number of filters\n",
    "                      kernel_size=3,  # Size of filter --3*3\n",
    "                      stride=1,\n",
    "                      padding=1),\n",
    "            nn.BatchNorm2d(first_layer),\n",
    "            nn.ReLU(),\n",
    "            nn.MaxPool2d(kernel_size=2),\n",
    "\n",
    "            # Second layer\n",
    "            nn.Conv2d(first_layer, second_layer, 3, 1, 1),\n",
    "            nn.BatchNorm2d(second_layer),\n",
    "            nn.ReLU(),\n",
    "            nn.MaxPool2d(2),\n",
    "\n",
    "            # Third layer\n",
    "            nn.Conv2d(second_layer, third_layer, 3, 1, 1),\n",
    "            nn.BatchNorm2d(third_layer),\n",
    "            nn.ReLU(),\n",
    "            nn.MaxPool2d(2),\n",
    "\n",
    "            # Forth layer\n",
    "            nn.Conv2d(third_layer, forth_layer, 3, 1, 1),\n",
    "            nn.BatchNorm2d(forth_layer),\n",
    "            nn.ReLU(),\n",
    "            nn.MaxPool2d(2),\n",
    "        )\n",
    "        self.fc_layers = nn.Sequential(\n",
    "            nn.Linear(forth_layer * 8 * 8, fc_layer),\n",
    "            nn.BatchNorm1d(fc_layer),\n",
    "            nn.ReLU(),\n",
    "            nn.Dropout(0.3),\n",
    "            nn.Linear(fc_layer, output)\n",
    "        )\n",
    "\n",
    "    def forward(self, x):\n",
    "        x = self.cnn_layers(x)\n",
    "\n",
    "        x = x.flatten(1)\n",
    "\n",
    "        x = self.fc_layers(x)\n",
    "        return x"
   ],
   "outputs": [],
   "execution_count": 2,
   "metadata": {
    "jupyter": {
     "source_hidden": false,
     "outputs_hidden": false
    },
    "nteract": {
     "transient": {
      "deleting": false
     }
    },
    "gather": {
     "logged": 1651472098974
    },
    "pycharm": {
     "name": "#%%\n"
    }
   }
  },
  {
   "cell_type": "markdown",
   "source": [
    "Pre-process the raw data:\n",
    "\n",
    "1. Do data augmentation\n",
    "2. by resize to 128*128"
   ],
   "metadata": {
    "nteract": {
     "transient": {
      "deleting": false
     }
    },
    "pycharm": {
     "name": "#%% md\n"
    }
   }
  },
  {
   "cell_type": "code",
   "source": [
    "train_tfm = transforms.Compose([\n",
    "    transforms.RandomResizedCrop(size=256, scale=(0.7, 1.0)),\n",
    "    transforms.RandomRotation(degrees=25),\n",
    "    transforms.RandomHorizontalFlip(),\n",
    "    transforms.Resize((128, 128)),\n",
    "    transforms.ToTensor(),\n",
    "    transforms.Normalize([0.485, 0.456, 0.406], [0.229, 0.224, 0.225])\n",
    "])\n",
    "test_tfm = transforms.Compose([\n",
    "    transforms.Resize((128, 128)),\n",
    "    transforms.ToTensor(),\n",
    "    transforms.Normalize([0.485, 0.456, 0.406], [0.229, 0.224, 0.225])\n",
    "])\n",
    "# Load Data\n",
    "train_set = DatasetFolder(\"dataset/arcDataset\",\n",
    "                          loader=lambda x: Image.open(x).convert(\"RGB\"),\n",
    "                          extensions=\"jpg\",\n",
    "                          transform=train_tfm)\n",
    "test_set = DatasetFolder(\"dataset/arcValidset\",\n",
    "                         loader=lambda x: Image.open(x).convert(\"RGB\"),\n",
    "                         extensions=\"jpg\",\n",
    "                         transform=test_tfm)"
   ],
   "outputs": [],
   "execution_count": 3,
   "metadata": {
    "jupyter": {
     "source_hidden": false,
     "outputs_hidden": false
    },
    "nteract": {
     "transient": {
      "deleting": false
     }
    },
    "gather": {
     "logged": 1651472099020
    },
    "pycharm": {
     "name": "#%%\n"
    }
   }
  },
  {
   "cell_type": "code",
   "execution_count": null,
   "outputs": [],
   "source": [
    "add_pseudo_data = False\n",
    "if add_pseudo_data:\n",
    "    pseudo_set = DatasetFolder(\"data/dataset/arcPseudoset\", loader=lambda x: Image.open(x).convert(\"RGB\"), extensions=\"jpg\",\n",
    "                               transform=train_tfm)\n",
    "\n",
    "class PseudoDataset(Dataset):\n",
    "    def __init__(self, x, y):\n",
    "        self.x = x\n",
    "        self.y = y\n",
    "\n",
    "    def __len__(self):\n",
    "        return len(self.y)\n",
    "\n",
    "    def __getitem__(self, id):\n",
    "        return self.x[id][0], self.y[id]\n",
    "\n",
    "def get_pseudo_labels(dataset, model, threshold=0.1):\n",
    "    device = \"cuda\" if torch.cuda.is_available() else \"cpu\"\n",
    "\n",
    "    data_loader = DataLoader(dataset, batch_size=batch_size, shuffle=False)\n",
    "\n",
    "    model.eval()\n",
    "    softmax = nn.Softmax(dim=-1)\n",
    "\n",
    "    idx = []\n",
    "    labels = []\n",
    "\n",
    "    for i, batch in enumerate(data_loader):\n",
    "        img, _ = batch\n",
    "        with torch.no_grad():\n",
    "            logits = model(img.to(device))\n",
    "        probs = softmax(logits)\n",
    "\n",
    "        for j, x in enumerate(probs):\n",
    "            if torch.max(x) > threshold:\n",
    "                idx.append(i * batch_size + j)\n",
    "                labels.append(int(torch.argmax(x)))\n",
    "\n",
    "    model.train()\n",
    "    print(\"\\nNew data: {:5d}\\n\".format(len(idx)))\n",
    "    dataset = PseudoDataset(Subset(dataset, idx), labels)\n",
    "    return dataset"
   ],
   "metadata": {
    "collapsed": false,
    "pycharm": {
     "name": "#%%\n"
    }
   }
  },
  {
   "cell_type": "code",
   "execution_count": 6,
   "outputs": [],
   "source": [
    "# Batch size of 128\n",
    "batch_size = 128\n",
    "train_loader = DataLoader(train_set, batch_size=batch_size, shuffle=True)\n",
    "test_loader = DataLoader(test_set, batch_size=batch_size)\n",
    "\n",
    "device = \"cuda\" if torch.cuda.is_available() else \"cpu\"\n",
    "\n",
    "# CrossEntropy loss are applied\n",
    "cross_entropy = nn.CrossEntropyLoss()\n",
    "cnn = NeuroNetwork().to(device)\n",
    "cnn.device = device\n",
    "optimizer = torch.optim.Adam(cnn.parameters(), lr=0.001, weight_decay=1e-5)\n",
    "\n",
    "train_loss_record = []\n",
    "valid_loss_record = []\n",
    "train_acc_record = []\n",
    "valid_acc_record = []"
   ],
   "metadata": {
    "collapsed": false,
    "pycharm": {
     "name": "#%%\n"
    }
   }
  },
  {
   "cell_type": "code",
   "source": [
    "def save_model():\n",
    "    checkpoint = {\n",
    "        \"net\": cnn.state_dict(),\n",
    "        'optimizer':optimizer.state_dict(),\n",
    "        \"epoch\": epoch\n",
    "    }\n",
    "    import os\n",
    "    fomat_time = time.strftime(\"%Y-%m-%d %H:%M:%S\", time.localtime())\n",
    "\n",
    "    torch.save(checkpoint, 'models/checkpoint/autosave_'+fomat_time)"
   ],
   "outputs": [],
   "execution_count": 9,
   "metadata": {
    "jupyter": {
     "source_hidden": false,
     "outputs_hidden": false
    },
    "nteract": {
     "transient": {
      "deleting": false
     }
    },
    "gather": {
     "logged": 1651472100669
    },
    "pycharm": {
     "name": "#%%\n"
    }
   }
  },
  {
   "cell_type": "code",
   "source": [
    "def show_model(X, Y):\n",
    "    X = X.detach().numpy()\n",
    "    # print(\"X.shape\",X.shape)\n",
    "    Y = Y.detach().numpy()\n",
    "    # print(\"Y.shape\",Y.shape)\n",
    "    X_min = X.min(0)\n",
    "    X_max = X.max(0)\n",
    "    X_norm = (X-X_min) / (X_max - X_min)\n",
    "\n",
    "    # print(X.min(0))\n",
    "    tsne = TSNE(n_components = 2, \n",
    "                perplexity = 30.,\n",
    "                learning_rate =10.,\n",
    "                n_iter=500, \n",
    "                random_state=135, \n",
    "                init='pca'\n",
    "                # verbose=1\n",
    "            )\n",
    "    x_fit = tsne.fit_transform(X_norm.reshape(X_norm.shape[0],-1),Y)\n",
    "    # print(\"x_fit\",x_fit.shape)\n",
    "    y_fit = Y \n",
    "    # print(\"y_fit.shape\",y_fit.shape)\n",
    "\n",
    " \n",
    "    classes = list(np.unique(y_fit))\n",
    "    # print(len(classes))\n",
    "    # print(x_fit[y_fit == classes[0]].shape)\n",
    "    markers = 'os' * len(classes)\n",
    "    colors = plt.cm.rainbow(np.linspace(0, 1, len(classes)))\n",
    "    # print(colors.shape)\n",
    "    fig, ax = plt.subplots()\n",
    "    for i, c in enumerate(classes):\n",
    "        temp = x_fit[y_fit == c]\n",
    "        # ax.scatter(*x_fit[y_fit == c].T, marker=markers[i], c=[colors[i]], label=str(c), alpha=0.6)\n",
    "        ax.scatter(x = temp[:,0],y = temp[:,1], marker=markers[i], c=[colors[i]], label=str(c), alpha=0.6)\n",
    "    ax.legend()\n",
    "    ax.axis(\"off\")\n",
    "    fig.set_facecolor('k')\n",
    "    plt.show()\n",
    "\n",
    "\n",
    "# for data,label in train_loader:\n",
    "#     show_model(data,label)\n",
    "#     break\n",
    "# for data,label in test_loader:\n",
    "#     show_model(data,label)"
   ],
   "outputs": [],
   "execution_count": 10,
   "metadata": {
    "jupyter": {
     "source_hidden": false,
     "outputs_hidden": false
    },
    "nteract": {
     "transient": {
      "deleting": false
     }
    },
    "gather": {
     "logged": 1651472100721
    },
    "pycharm": {
     "name": "#%%\n"
    }
   }
  },
  {
   "cell_type": "code",
   "source": [
    "# Train for 20 times rounds\n",
    "n_epochs = 150\n",
    "best_acc = 0.0\n",
    "for epoch in range(n_epochs):\n",
    "    print(\"Epoch: \", epoch)\n",
    "    start_time = time.time()\n",
    "\n",
    "    cnn.train()\n",
    "\n",
    "    train_loss = []\n",
    "    train_acc = []\n",
    "\n",
    "    for index,batch in enumerate(train_loader):\n",
    "        data, labels = batch\n",
    "\n",
    "        predict = cnn(data.to(device))\n",
    "\n",
    "        loss = cross_entropy(predict, labels.to(device))\n",
    "        optimizer.zero_grad()\n",
    "        loss.backward()\n",
    "        optimizer.step()\n",
    "\n",
    "        acc = torch.tensor(predict.argmax(dim=-1) == labels.to(device)).float().mean()\n",
    "        train_loss.append(loss.item())\n",
    "        train_acc.append(acc)\n",
    "    # print(\"squeezing data\")\n",
    "    # data_temp = torch.cat(data_temp,dim = 0)\n",
    "    # pred_temp = torch.cat(pred_temp,dim = 0)\n",
    "    # print(\"visualizing\")\n",
    "    # show_model(data_temp,pred_temp)\n",
    "\n",
    "    train_loss = sum(train_loss) / len(train_loss)\n",
    "    train_acc = sum(train_acc) / len(train_acc)\n",
    "    print(f\"[ Train | {epoch + 1:03d}/{n_epochs:03d} ] loss = {train_loss:.5f}, acc = {train_acc:.5f}\")\n",
    "\n",
    "    cnn.eval()\n",
    "    test_loss = []\n",
    "    test_acc = []\n",
    "    for batch in  test_loader:\n",
    "        data, labels = batch\n",
    "\n",
    "        with torch.no_grad():\n",
    "            predict = cnn(data.to(device))\n",
    "\n",
    "        loss = cross_entropy(predict, labels.to(device))\n",
    "\n",
    "        acc = torch.tensor(predict.argmax(dim=-1) == labels.to(device)).float().mean()\n",
    "        test_loss.append(loss.item())\n",
    "        test_acc.append(acc)\n",
    "\n",
    "\n",
    "\n",
    "    valid_loss = sum(test_loss) / len(test_loss)\n",
    "    valid_acc = sum(test_acc) / len(test_acc)\n",
    "\n",
    "    print(f\"[ Test | {epoch + 1:03d}/{n_epochs:03d} ] loss = {valid_loss:.5f}, acc = {valid_acc:.5f}\")\n",
    "\n",
    "    if valid_acc > best_acc:\n",
    "        best_acc = valid_acc\n",
    "\n",
    "    train_loss_record.append(train_loss)\n",
    "    valid_loss_record.append(valid_loss)\n",
    "    train_acc_record.append(train_acc)\n",
    "    valid_acc_record.append(valid_acc)\n",
    "\n",
    "    # cache the model\n",
    "    if epoch % 5 == 0:\n",
    "        save_model()\n",
    "\n",
    "    end_time = time.time()\n",
    "\n",
    "    print(f\"[Time cost | {epoch + 1:03d}/{n_epochs:03d}]:{end_time - start_time: .4f}s\")\n",
    "\n"
   ],
   "outputs": [
    {
     "output_type": "stream",
     "name": "stdout",
     "text": "Epoch:  0\n"
    },
    {
     "output_type": "error",
     "ename": "IndexError",
     "evalue": "Target 23 is out of bounds.",
     "traceback": [
      "\u001B[0;31m---------------------------------------------------------------------------\u001B[0m",
      "\u001B[0;31mIndexError\u001B[0m                                Traceback (most recent call last)",
      "\u001B[0;32m<ipython-input-12-97ffc947de47>\u001B[0m in \u001B[0;36m<module>\u001B[0;34m\u001B[0m\n\u001B[1;32m     32\u001B[0m         \u001B[0mpred_temp\u001B[0m\u001B[0;34m.\u001B[0m\u001B[0mappend\u001B[0m\u001B[0;34m(\u001B[0m\u001B[0mpredict\u001B[0m\u001B[0;34m.\u001B[0m\u001B[0margmax\u001B[0m\u001B[0;34m(\u001B[0m\u001B[0mdim\u001B[0m \u001B[0;34m=\u001B[0m \u001B[0;34m-\u001B[0m\u001B[0;36m1\u001B[0m\u001B[0;34m)\u001B[0m\u001B[0;34m)\u001B[0m\u001B[0;34m\u001B[0m\u001B[0;34m\u001B[0m\u001B[0m\n\u001B[1;32m     33\u001B[0m \u001B[0;34m\u001B[0m\u001B[0m\n\u001B[0;32m---> 34\u001B[0;31m         \u001B[0mloss\u001B[0m \u001B[0;34m=\u001B[0m \u001B[0mcross_entropy\u001B[0m\u001B[0;34m(\u001B[0m\u001B[0mpredict\u001B[0m\u001B[0;34m,\u001B[0m \u001B[0mlabels\u001B[0m\u001B[0;34m.\u001B[0m\u001B[0mto\u001B[0m\u001B[0;34m(\u001B[0m\u001B[0mdevice\u001B[0m\u001B[0;34m)\u001B[0m\u001B[0;34m)\u001B[0m\u001B[0;34m\u001B[0m\u001B[0;34m\u001B[0m\u001B[0m\n\u001B[0m\u001B[1;32m     35\u001B[0m         \u001B[0moptimizer\u001B[0m\u001B[0;34m.\u001B[0m\u001B[0mzero_grad\u001B[0m\u001B[0;34m(\u001B[0m\u001B[0;34m)\u001B[0m\u001B[0;34m\u001B[0m\u001B[0;34m\u001B[0m\u001B[0m\n\u001B[1;32m     36\u001B[0m         \u001B[0mloss\u001B[0m\u001B[0;34m.\u001B[0m\u001B[0mbackward\u001B[0m\u001B[0;34m(\u001B[0m\u001B[0;34m)\u001B[0m\u001B[0;34m\u001B[0m\u001B[0;34m\u001B[0m\u001B[0m\n",
      "\u001B[0;32m/anaconda/envs/azureml_py38_PT_TF/lib/python3.8/site-packages/torch/nn/modules/module.py\u001B[0m in \u001B[0;36m_call_impl\u001B[0;34m(self, *input, **kwargs)\u001B[0m\n\u001B[1;32m   1108\u001B[0m         if not (self._backward_hooks or self._forward_hooks or self._forward_pre_hooks or _global_backward_hooks\n\u001B[1;32m   1109\u001B[0m                 or _global_forward_hooks or _global_forward_pre_hooks):\n\u001B[0;32m-> 1110\u001B[0;31m             \u001B[0;32mreturn\u001B[0m \u001B[0mforward_call\u001B[0m\u001B[0;34m(\u001B[0m\u001B[0;34m*\u001B[0m\u001B[0minput\u001B[0m\u001B[0;34m,\u001B[0m \u001B[0;34m**\u001B[0m\u001B[0mkwargs\u001B[0m\u001B[0;34m)\u001B[0m\u001B[0;34m\u001B[0m\u001B[0;34m\u001B[0m\u001B[0m\n\u001B[0m\u001B[1;32m   1111\u001B[0m         \u001B[0;31m# Do not call functions when jit is used\u001B[0m\u001B[0;34m\u001B[0m\u001B[0;34m\u001B[0m\u001B[0;34m\u001B[0m\u001B[0m\n\u001B[1;32m   1112\u001B[0m         \u001B[0mfull_backward_hooks\u001B[0m\u001B[0;34m,\u001B[0m \u001B[0mnon_full_backward_hooks\u001B[0m \u001B[0;34m=\u001B[0m \u001B[0;34m[\u001B[0m\u001B[0;34m]\u001B[0m\u001B[0;34m,\u001B[0m \u001B[0;34m[\u001B[0m\u001B[0;34m]\u001B[0m\u001B[0;34m\u001B[0m\u001B[0;34m\u001B[0m\u001B[0m\n",
      "\u001B[0;32m/anaconda/envs/azureml_py38_PT_TF/lib/python3.8/site-packages/torch/nn/modules/loss.py\u001B[0m in \u001B[0;36mforward\u001B[0;34m(self, input, target)\u001B[0m\n\u001B[1;32m   1161\u001B[0m \u001B[0;34m\u001B[0m\u001B[0m\n\u001B[1;32m   1162\u001B[0m     \u001B[0;32mdef\u001B[0m \u001B[0mforward\u001B[0m\u001B[0;34m(\u001B[0m\u001B[0mself\u001B[0m\u001B[0;34m,\u001B[0m \u001B[0minput\u001B[0m\u001B[0;34m:\u001B[0m \u001B[0mTensor\u001B[0m\u001B[0;34m,\u001B[0m \u001B[0mtarget\u001B[0m\u001B[0;34m:\u001B[0m \u001B[0mTensor\u001B[0m\u001B[0;34m)\u001B[0m \u001B[0;34m->\u001B[0m \u001B[0mTensor\u001B[0m\u001B[0;34m:\u001B[0m\u001B[0;34m\u001B[0m\u001B[0;34m\u001B[0m\u001B[0m\n\u001B[0;32m-> 1163\u001B[0;31m         return F.cross_entropy(input, target, weight=self.weight,\n\u001B[0m\u001B[1;32m   1164\u001B[0m                                \u001B[0mignore_index\u001B[0m\u001B[0;34m=\u001B[0m\u001B[0mself\u001B[0m\u001B[0;34m.\u001B[0m\u001B[0mignore_index\u001B[0m\u001B[0;34m,\u001B[0m \u001B[0mreduction\u001B[0m\u001B[0;34m=\u001B[0m\u001B[0mself\u001B[0m\u001B[0;34m.\u001B[0m\u001B[0mreduction\u001B[0m\u001B[0;34m,\u001B[0m\u001B[0;34m\u001B[0m\u001B[0;34m\u001B[0m\u001B[0m\n\u001B[1;32m   1165\u001B[0m                                label_smoothing=self.label_smoothing)\n",
      "\u001B[0;32m/anaconda/envs/azureml_py38_PT_TF/lib/python3.8/site-packages/torch/nn/functional.py\u001B[0m in \u001B[0;36mcross_entropy\u001B[0;34m(input, target, weight, size_average, ignore_index, reduce, reduction, label_smoothing)\u001B[0m\n\u001B[1;32m   2994\u001B[0m     \u001B[0;32mif\u001B[0m \u001B[0msize_average\u001B[0m \u001B[0;32mis\u001B[0m \u001B[0;32mnot\u001B[0m \u001B[0;32mNone\u001B[0m \u001B[0;32mor\u001B[0m \u001B[0mreduce\u001B[0m \u001B[0;32mis\u001B[0m \u001B[0;32mnot\u001B[0m \u001B[0;32mNone\u001B[0m\u001B[0;34m:\u001B[0m\u001B[0;34m\u001B[0m\u001B[0;34m\u001B[0m\u001B[0m\n\u001B[1;32m   2995\u001B[0m         \u001B[0mreduction\u001B[0m \u001B[0;34m=\u001B[0m \u001B[0m_Reduction\u001B[0m\u001B[0;34m.\u001B[0m\u001B[0mlegacy_get_string\u001B[0m\u001B[0;34m(\u001B[0m\u001B[0msize_average\u001B[0m\u001B[0;34m,\u001B[0m \u001B[0mreduce\u001B[0m\u001B[0;34m)\u001B[0m\u001B[0;34m\u001B[0m\u001B[0;34m\u001B[0m\u001B[0m\n\u001B[0;32m-> 2996\u001B[0;31m     \u001B[0;32mreturn\u001B[0m \u001B[0mtorch\u001B[0m\u001B[0;34m.\u001B[0m\u001B[0m_C\u001B[0m\u001B[0;34m.\u001B[0m\u001B[0m_nn\u001B[0m\u001B[0;34m.\u001B[0m\u001B[0mcross_entropy_loss\u001B[0m\u001B[0;34m(\u001B[0m\u001B[0minput\u001B[0m\u001B[0;34m,\u001B[0m \u001B[0mtarget\u001B[0m\u001B[0;34m,\u001B[0m \u001B[0mweight\u001B[0m\u001B[0;34m,\u001B[0m \u001B[0m_Reduction\u001B[0m\u001B[0;34m.\u001B[0m\u001B[0mget_enum\u001B[0m\u001B[0;34m(\u001B[0m\u001B[0mreduction\u001B[0m\u001B[0;34m)\u001B[0m\u001B[0;34m,\u001B[0m \u001B[0mignore_index\u001B[0m\u001B[0;34m,\u001B[0m \u001B[0mlabel_smoothing\u001B[0m\u001B[0;34m)\u001B[0m\u001B[0;34m\u001B[0m\u001B[0;34m\u001B[0m\u001B[0m\n\u001B[0m\u001B[1;32m   2997\u001B[0m \u001B[0;34m\u001B[0m\u001B[0m\n\u001B[1;32m   2998\u001B[0m \u001B[0;34m\u001B[0m\u001B[0m\n",
      "\u001B[0;31mIndexError\u001B[0m: Target 23 is out of bounds."
     ]
    }
   ],
   "execution_count": 12,
   "metadata": {
    "jupyter": {
     "source_hidden": false,
     "outputs_hidden": false
    },
    "nteract": {
     "transient": {
      "deleting": false
     }
    },
    "collapsed": true,
    "gather": {
     "logged": 1651472109577
    },
    "pycharm": {
     "name": "#%%\n"
    }
   }
  },
  {
   "cell_type": "code",
   "source": [
    "x = np.arange(len(train_acc_record))\n",
    "plt.plot(x, train_acc_record, color=\"blue\", label=\"Train\")\n",
    "plt.plot(x, valid_acc_record, color=\"red\", label=\"Valid\")\n",
    "plt.legend(loc=\"upper right\")\n",
    "plt.show()\n",
    "\n",
    "x = np.arange(len(train_loss_record))\n",
    "plt.plot(x, train_loss_record, color=\"blue\", label=\"Train\")\n",
    "plt.plot(x, valid_loss_record, color=\"red\", label=\"Valid\")\n",
    "plt.legend(loc=\"upper right\")\n",
    "plt.show()"
   ],
   "outputs": [],
   "execution_count": null,
   "metadata": {
    "jupyter": {
     "source_hidden": false,
     "outputs_hidden": false
    },
    "nteract": {
     "transient": {
      "deleting": false
     }
    },
    "gather": {
     "logged": 1651472109619
    },
    "pycharm": {
     "name": "#%%\n"
    }
   }
  }
 ],
 "metadata": {
  "kernelspec": {
   "name": "azureml_py38_pt_tf",
   "language": "python",
   "display_name": "Python 3.8 - Pytorch and Tensorflow"
  },
  "language_info": {
   "name": "python",
   "version": "3.8.5",
   "mimetype": "text/x-python",
   "codemirror_mode": {
    "name": "ipython",
    "version": 3
   },
   "pygments_lexer": "ipython3",
   "nbconvert_exporter": "python",
   "file_extension": ".py"
  },
  "kernel_info": {
   "name": "azureml_py38_pt_tf"
  },
  "microsoft": {
   "host": {
    "AzureML": {
     "notebookHasBeenCompleted": true
    }
   }
  },
  "nteract": {
   "version": "nteract-front-end@1.0.0"
  }
 },
 "nbformat": 4,
 "nbformat_minor": 2
}