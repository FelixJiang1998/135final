{
 "cells": [
  {
   "cell_type": "code",
   "execution_count": 1,
   "outputs": [],
   "source": [
    "with open(\"final_result/cnn_tf/train_data.yml\") as f:\n",
    "    lines = f.readlines()"
   ],
   "metadata": {
    "collapsed": false,
    "pycharm": {
     "name": "#%%\n"
    }
   }
  },
  {
   "cell_type": "code",
   "execution_count": 22,
   "outputs": [
    {
     "data": {
      "text/plain": "'3.1737'"
     },
     "execution_count": 22,
     "metadata": {},
     "output_type": "execute_result"
    }
   ],
   "source": [
    "lines[1][-58:-52] #69:75 -58:-52"
   ],
   "metadata": {
    "collapsed": false,
    "pycharm": {
     "name": "#%%\n"
    }
   }
  },
  {
   "cell_type": "code",
   "execution_count": 24,
   "outputs": [],
   "source": [
    "results = []\n",
    "for index,line in enumerate(lines):\n",
    "    if index % 2 ==0:\n",
    "        continue\n",
    "    train_loss = float(line[-58:-52])\n",
    "    # train_acc = float(line[82:88])\n",
    "    train_acc = float(line[-44:-38])\n",
    "    # val_loss = float(line[101:107])\n",
    "    val_loss = float(line[-25:-19])\n",
    "    val_acc = float(line[-7:-1])\n",
    "    results.append({\"train_loss\":train_loss,\n",
    "                    \"train_acc\":train_acc,\n",
    "                    \"val_loss\":val_loss,\n",
    "                    \"val_acc\":val_acc})"
   ],
   "metadata": {
    "collapsed": false,
    "pycharm": {
     "name": "#%%\n"
    }
   }
  },
  {
   "cell_type": "code",
   "execution_count": 25,
   "outputs": [],
   "source": [
    "import pandas as pd\n",
    "df = pd.DataFrame(results,columns=[\"train_loss\",\"train_acc\",\"val_loss\",\"val_acc\"])"
   ],
   "metadata": {
    "collapsed": false,
    "pycharm": {
     "name": "#%%\n"
    }
   }
  },
  {
   "cell_type": "code",
   "execution_count": 26,
   "outputs": [
    {
     "data": {
      "text/plain": "   train_loss  train_acc  val_loss  val_acc\n0      3.1737     0.1749    7.9362   0.0657\n1      2.4121     0.3105    7.7103   0.0598\n2      2.0577     0.3972    6.6672   0.0588\n3      1.7183     0.4826    6.5687   0.0603\n4      1.3744     0.5756    4.7572   0.1626",
      "text/html": "<div>\n<style scoped>\n    .dataframe tbody tr th:only-of-type {\n        vertical-align: middle;\n    }\n\n    .dataframe tbody tr th {\n        vertical-align: top;\n    }\n\n    .dataframe thead th {\n        text-align: right;\n    }\n</style>\n<table border=\"1\" class=\"dataframe\">\n  <thead>\n    <tr style=\"text-align: right;\">\n      <th></th>\n      <th>train_loss</th>\n      <th>train_acc</th>\n      <th>val_loss</th>\n      <th>val_acc</th>\n    </tr>\n  </thead>\n  <tbody>\n    <tr>\n      <th>0</th>\n      <td>3.1737</td>\n      <td>0.1749</td>\n      <td>7.9362</td>\n      <td>0.0657</td>\n    </tr>\n    <tr>\n      <th>1</th>\n      <td>2.4121</td>\n      <td>0.3105</td>\n      <td>7.7103</td>\n      <td>0.0598</td>\n    </tr>\n    <tr>\n      <th>2</th>\n      <td>2.0577</td>\n      <td>0.3972</td>\n      <td>6.6672</td>\n      <td>0.0588</td>\n    </tr>\n    <tr>\n      <th>3</th>\n      <td>1.7183</td>\n      <td>0.4826</td>\n      <td>6.5687</td>\n      <td>0.0603</td>\n    </tr>\n    <tr>\n      <th>4</th>\n      <td>1.3744</td>\n      <td>0.5756</td>\n      <td>4.7572</td>\n      <td>0.1626</td>\n    </tr>\n  </tbody>\n</table>\n</div>"
     },
     "execution_count": 26,
     "metadata": {},
     "output_type": "execute_result"
    }
   ],
   "source": [
    "df.head()"
   ],
   "metadata": {
    "collapsed": false,
    "pycharm": {
     "name": "#%%\n"
    }
   }
  },
  {
   "cell_type": "code",
   "execution_count": 27,
   "outputs": [],
   "source": [
    "df.to_csv(\"train_data.csv\",index = False)"
   ],
   "metadata": {
    "collapsed": false,
    "pycharm": {
     "name": "#%%\n"
    }
   }
  },
  {
   "cell_type": "code",
   "execution_count": 28,
   "outputs": [
    {
     "data": {
      "text/plain": "    train_loss  train_acc  val_loss  val_acc\n0       3.1737     0.1749    7.9362   0.0657\n1       2.4121     0.3105    7.7103   0.0598\n2       2.0577     0.3972    6.6672   0.0588\n3       1.7183     0.4826    6.5687   0.0603\n4       1.3744     0.5756    4.7572   0.1626\n..         ...        ...       ...      ...\n95      0.0170     0.9947    5.6025   0.4083\n96      0.0280     0.9907    5.2652   0.4083\n97      0.0293     0.9907    5.1704   0.4024\n98      0.0253     0.9926    5.1743   0.4123\n99      0.0320     0.9890    5.4280   0.4020\n\n[100 rows x 4 columns]",
      "text/html": "<div>\n<style scoped>\n    .dataframe tbody tr th:only-of-type {\n        vertical-align: middle;\n    }\n\n    .dataframe tbody tr th {\n        vertical-align: top;\n    }\n\n    .dataframe thead th {\n        text-align: right;\n    }\n</style>\n<table border=\"1\" class=\"dataframe\">\n  <thead>\n    <tr style=\"text-align: right;\">\n      <th></th>\n      <th>train_loss</th>\n      <th>train_acc</th>\n      <th>val_loss</th>\n      <th>val_acc</th>\n    </tr>\n  </thead>\n  <tbody>\n    <tr>\n      <th>0</th>\n      <td>3.1737</td>\n      <td>0.1749</td>\n      <td>7.9362</td>\n      <td>0.0657</td>\n    </tr>\n    <tr>\n      <th>1</th>\n      <td>2.4121</td>\n      <td>0.3105</td>\n      <td>7.7103</td>\n      <td>0.0598</td>\n    </tr>\n    <tr>\n      <th>2</th>\n      <td>2.0577</td>\n      <td>0.3972</td>\n      <td>6.6672</td>\n      <td>0.0588</td>\n    </tr>\n    <tr>\n      <th>3</th>\n      <td>1.7183</td>\n      <td>0.4826</td>\n      <td>6.5687</td>\n      <td>0.0603</td>\n    </tr>\n    <tr>\n      <th>4</th>\n      <td>1.3744</td>\n      <td>0.5756</td>\n      <td>4.7572</td>\n      <td>0.1626</td>\n    </tr>\n    <tr>\n      <th>...</th>\n      <td>...</td>\n      <td>...</td>\n      <td>...</td>\n      <td>...</td>\n    </tr>\n    <tr>\n      <th>95</th>\n      <td>0.0170</td>\n      <td>0.9947</td>\n      <td>5.6025</td>\n      <td>0.4083</td>\n    </tr>\n    <tr>\n      <th>96</th>\n      <td>0.0280</td>\n      <td>0.9907</td>\n      <td>5.2652</td>\n      <td>0.4083</td>\n    </tr>\n    <tr>\n      <th>97</th>\n      <td>0.0293</td>\n      <td>0.9907</td>\n      <td>5.1704</td>\n      <td>0.4024</td>\n    </tr>\n    <tr>\n      <th>98</th>\n      <td>0.0253</td>\n      <td>0.9926</td>\n      <td>5.1743</td>\n      <td>0.4123</td>\n    </tr>\n    <tr>\n      <th>99</th>\n      <td>0.0320</td>\n      <td>0.9890</td>\n      <td>5.4280</td>\n      <td>0.4020</td>\n    </tr>\n  </tbody>\n</table>\n<p>100 rows × 4 columns</p>\n</div>"
     },
     "execution_count": 28,
     "metadata": {},
     "output_type": "execute_result"
    }
   ],
   "source": [
    "# pd.read_csv(\"train_data.csv\")"
   ],
   "metadata": {
    "collapsed": false,
    "pycharm": {
     "name": "#%%\n"
    }
   }
  },
  {
   "cell_type": "code",
   "execution_count": 29,
   "outputs": [
    {
     "data": {
      "text/plain": "(100, 4)"
     },
     "execution_count": 29,
     "metadata": {},
     "output_type": "execute_result"
    }
   ],
   "source": [
    "df.shape"
   ],
   "metadata": {
    "collapsed": false,
    "pycharm": {
     "name": "#%%\n"
    }
   }
  },
  {
   "cell_type": "code",
   "execution_count": 31,
   "outputs": [
    {
     "data": {
      "text/plain": "<Figure size 432x288 with 1 Axes>",
      "image/png": "[encoded data removed]"
     },
     "metadata": {
      "needs_background": "light"
     },
     "output_type": "display_data"
    }
   ],
   "source": [
    "import numpy as np\n",
    "import matplotlib.pyplot as plt\n",
    "x = np.arange(df.shape[0])\n",
    "plt.plot(x, df['train_acc'], color=\"blue\", label=\"Train\")\n",
    "plt.plot(x, df['val_acc'], color=\"red\", label=\"Valid\")\n",
    "plt.legend(loc=\"upper right\")\n",
    "plt.show()"
   ],
   "metadata": {
    "collapsed": false,
    "pycharm": {
     "name": "#%%\n"
    }
   }
  },
  {
   "cell_type": "code",
   "execution_count": 32,
   "outputs": [
    {
     "data": {
      "text/plain": "<Figure size 432x288 with 1 Axes>",
      "image/png": "[encoded data removed]"
     },
     "metadata": {
      "needs_background": "light"
     },
     "output_type": "display_data"
    }
   ],
   "source": [
    "plt.plot(x, df['train_loss'], color=\"blue\", label=\"Train\")\n",
    "plt.plot(x, df['val_loss'], color=\"red\", label=\"Valid\")\n",
    "plt.legend(loc=\"upper right\")\n",
    "plt.show()"
   ],
   "metadata": {
    "collapsed": false,
    "pycharm": {
     "name": "#%%\n"
    }
   }
  },
  {
   "cell_type": "code",
   "execution_count": null,
   "outputs": [],
   "source": [],
   "metadata": {
    "collapsed": false,
    "pycharm": {
     "name": "#%%\n"
    }
   }
  }
 ],
 "metadata": {
  "kernelspec": {
   "display_name": "Python 3",
   "language": "python",
   "name": "python3"
  },
  "language_info": {
   "codemirror_mode": {
    "name": "ipython",
    "version": 2
   },
   "file_extension": ".py",
   "mimetype": "text/x-python",
   "name": "python",
   "nbconvert_exporter": "python",
   "pygments_lexer": "ipython2",
   "version": "2.7.6"
  }
 },
 "nbformat": 4,
 "nbformat_minor": 0
}