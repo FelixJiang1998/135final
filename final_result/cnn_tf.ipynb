{
  "cells": [
    {
      "cell_type": "markdown",
      "metadata": {
        "id": "WREb-GwCDjON"
      },
      "source": [
        "# HDCNN for Architecture Image Recognition"
      ]
    },
    {
      "cell_type": "markdown",
      "metadata": {
        "id": "sIMFIbzkDjOP"
      },
      "source": [
        "## Setup and Imports"
      ]
    },
    {
      "cell_type": "markdown",
      "metadata": {
        "id": "bK2YfMDWDjOP"
      },
      "source": [
        "**Import Packages**"
      ]
    },
    {
      "cell_type": "code",
      "source": [
        "# !unzip -q dataset.zip -d dataset"
      ],
      "metadata": {
        "id": "q9Zh7wlwUQKN"
      },
      "execution_count": 34,
      "outputs": []
    },
    {
      "cell_type": "code",
      "execution_count": 35,
      "metadata": {
        "id": "o8jkSNBTDjOQ"
      },
      "outputs": [],
      "source": [
        "import keras as kr\n",
        "import numpy as np\n",
        "import tensorflow.compat.v1 as tf\n",
        "\n",
        "tf.disable_v2_behavior()\n",
        "\n",
        "\n",
        "from keras.datasets import cifar100\n",
        "\n",
        "from sklearn.model_selection import train_test_split\n",
        "\n",
        "from random import randint\n",
        "import time\n",
        "import os\n",
        "from sklearn.manifold import TSNE\n",
        "import matplotlib.pyplot as plt\n"
      ]
    },
    {
      "cell_type": "code",
      "execution_count": 36,
      "metadata": {
        "id": "cIywIdtKDjOR"
      },
      "outputs": [],
      "source": [
        "if not os.path.exists('models/'):\n",
        "    os.mkdir('models')"
      ]
    },
    {
      "cell_type": "markdown",
      "metadata": {
        "id": "OcpoTSj4DjOR"
      },
      "source": [
        "**Define Global Variables**"
      ]
    },
    {
      "cell_type": "code",
      "execution_count": 37,
      "metadata": {
        "id": "m00DWErIDjOS"
      },
      "outputs": [],
      "source": [
        "# The number of coarse categories\n",
        "coarse_categories = 11\n",
        "\n",
        "# The number of fine categories\n",
        "fine_categories = 25"
      ]
    },
    {
      "cell_type": "markdown",
      "metadata": {
        "id": "gr7TENfZDjOT"
      },
      "source": [
        "## Import and Preprocess Dataset"
      ]
    },
    {
      "cell_type": "code",
      "execution_count": 38,
      "metadata": {
        "id": "VorDvH9A5TlK"
      },
      "outputs": [],
      "source": [
        "import random\n",
        "import keras_preprocessing.image\n",
        "\n",
        "def load_and_crop_img(path, grayscale=False, color_mode='rgb', target_size=None,\n",
        "             interpolation='nearest'):\n",
        "    \"\"\"Wraps keras_preprocessing.image.utils.loag_img() and adds cropping.\n",
        "    Cropping method enumarated in interpolation\n",
        "    # Arguments\n",
        "        path: Path to image file.\n",
        "        color_mode: One of \"grayscale\", \"rgb\", \"rgba\". Default: \"rgb\".\n",
        "            The desired image format.\n",
        "        target_size: Either `None` (default to original size)\n",
        "            or tuple of ints `(img_height, img_width)`.\n",
        "        interpolation: Interpolation and crop methods used to resample and crop the image\n",
        "            if the target size is different from that of the loaded image.\n",
        "            Methods are delimited by \":\" where first part is interpolation and second is crop\n",
        "            e.g. \"lanczos:random\".\n",
        "            Supported interpolation methods are \"nearest\", \"bilinear\", \"bicubic\", \"lanczos\",\n",
        "            \"box\", \"hamming\" By default, \"nearest\" is used.\n",
        "            Supported crop methods are \"none\", \"center\", \"random\".\n",
        "    # Returns\n",
        "        A PIL Image instance.\n",
        "    # Raises\n",
        "        ImportError: if PIL is not available.\n",
        "        ValueError: if interpolation method is not supported.\n",
        "    \"\"\"\n",
        "\n",
        "    # Decode interpolation string. Allowed Crop methods: none, center, random\n",
        "    interpolation, crop = interpolation.split(\":\") if \":\" in interpolation else (interpolation, \"none\")  \n",
        "\n",
        "    if crop == \"none\":\n",
        "        return keras_preprocessing.image.utils.load_img(path, \n",
        "                                            grayscale=grayscale, \n",
        "                                            color_mode=color_mode, \n",
        "                                            target_size=target_size,\n",
        "                                            interpolation=interpolation)\n",
        "\n",
        "    # Load original size image using Keras\n",
        "    img = keras_preprocessing.image.utils.load_img(path, \n",
        "                                            grayscale=grayscale, \n",
        "                                            color_mode=color_mode, \n",
        "                                            target_size=None, \n",
        "                                            interpolation=interpolation)\n",
        "\n",
        "    # Crop fraction of total image\n",
        "    crop_fraction = 0.875\n",
        "    target_width = target_size[1]\n",
        "    target_height = target_size[0]\n",
        "\n",
        "    if target_size is not None:        \n",
        "        if img.size != (target_width, target_height):\n",
        "\n",
        "            if crop not in [\"center\", \"random\"]:\n",
        "                raise ValueError('Invalid crop method {} specified.', crop)\n",
        "\n",
        "            if interpolation not in keras_preprocessing.image.utils._PIL_INTERPOLATION_METHODS:\n",
        "                raise ValueError(\n",
        "                    'Invalid interpolation method {} specified. Supported '\n",
        "                    'methods are {}'.format(interpolation,\n",
        "                        \", \".join(keras_preprocessing.image.utils._PIL_INTERPOLATION_METHODS.keys())))\n",
        "            \n",
        "            resample = keras_preprocessing.image.utils._PIL_INTERPOLATION_METHODS[interpolation]\n",
        "\n",
        "            width, height = img.size\n",
        "\n",
        "            # Resize keeping aspect ratio\n",
        "            # result shold be no smaller than the targer size, include crop fraction overhead\n",
        "            target_size_before_crop = (target_width/crop_fraction, target_height/crop_fraction)\n",
        "            ratio = max(target_size_before_crop[0] / width, target_size_before_crop[1] / height)\n",
        "            target_size_before_crop_keep_ratio = int(width * ratio), int(height * ratio)\n",
        "            img = img.resize(target_size_before_crop_keep_ratio, resample=resample)\n",
        "\n",
        "            width, height = img.size\n",
        "\n",
        "            if crop == \"center\":\n",
        "                left_corner = int(round(width/2)) - int(round(target_width/2))\n",
        "                top_corner = int(round(height/2)) - int(round(target_height/2))\n",
        "                return img.crop((left_corner, top_corner, left_corner + target_width, top_corner + target_height))\n",
        "            elif crop == \"random\":\n",
        "                left_shift = random.randint(0, int((width - target_width)))\n",
        "                down_shift = random.randint(0, int((height - target_height)))\n",
        "                return img.crop((left_shift, down_shift, target_width + left_shift, target_height + down_shift))\n",
        "\n",
        "    return img\n",
        "  \n",
        "keras_preprocessing.image.iterator.load_img = load_and_crop_img"
      ]
    },
    {
      "cell_type": "code",
      "execution_count": 39,
      "metadata": {
        "colab": {
          "base_uri": "https://localhost:8080/"
        },
        "id": "zmgxfscyDJy7",
        "outputId": "ced27541-70c4-4df8-bad2-51aa4c197d3a"
      },
      "outputs": [
        {
          "output_type": "stream",
          "name": "stderr",
          "text": [
            "/usr/local/lib/python3.7/dist-packages/keras_preprocessing/image/image_data_generator.py:356: UserWarning: This ImageDataGenerator specifies `samplewise_std_normalization`, which overrides setting of `samplewise_center`.\n",
            "  warnings.warn('This ImageDataGenerator specifies '\n"
          ]
        },
        {
          "output_type": "stream",
          "name": "stdout",
          "text": [
            "Found 10113 images belonging to 25 classes.\n"
          ]
        }
      ],
      "source": [
        "from keras.preprocessing.image import ImageDataGenerator\n",
        "from keras.applications.inception_v3 import preprocess_input\n",
        "fine_datagen = tf.keras.preprocessing.image.ImageDataGenerator(    \n",
        "    rotation_range=15,\n",
        "    horizontal_flip=True,\n",
        "    samplewise_std_normalization = True)\n",
        "fine_dir = \"./dataset/archive\"\n",
        "fine_img = fine_datagen.flow_from_directory(fine_dir,target_size=(64,64), batch_size=128, interpolation = 'lanczos:center', shuffle=False)"
      ]
    },
    {
      "cell_type": "markdown",
      "metadata": {
        "id": "S4bkFOSmZe-3"
      },
      "source": [
        ""
      ]
    },
    {
      "cell_type": "code",
      "execution_count": 23,
      "metadata": {
        "colab": {
          "base_uri": "https://localhost:8080/"
        },
        "id": "gD4-pUyc8xKs",
        "outputId": "71150c12-36c6-41b5-aeed-b058e7c6764d"
      },
      "outputs": [
        {
          "output_type": "stream",
          "name": "stderr",
          "text": [
            "100%|██████████| 79/79 [02:33<00:00,  1.94s/it]"
          ]
        },
        {
          "output_type": "stream",
          "name": "stdout",
          "text": [
            "(10113, 64, 64, 3) (10113, 25)\n"
          ]
        },
        {
          "output_type": "stream",
          "name": "stderr",
          "text": [
            "\n"
          ]
        }
      ],
      "source": [
        "from tqdm import tqdm\n",
        "fine_img.reset()\n",
        "X_fine, y_fine = next(fine_img)\n",
        "for i in tqdm(range(int(len(fine_img))-1)): #1st batch is already fetched before the for loop.\n",
        "  img, label = next(fine_img)\n",
        "  X_fine = np.append(X_fine, img, axis=0)\n",
        "  y_fine = np.append(y_fine, label, axis=0)\n",
        "print(X_fine.shape, y_fine.shape)"
      ]
    },
    {
      "cell_type": "markdown",
      "metadata": {
        "id": "wdHFpIM6DjOV"
      },
      "source": [
        "**Fine-To-Coarse Mapping**\n",
        "\n",
        "(Ideally, this would be done through spectral clustering as opposed to hard-coding)"
      ]
    },
    {
      "cell_type": "code",
      "execution_count": 24,
      "metadata": {
        "id": "KD8Z5nRwULob"
      },
      "outputs": [],
      "source": [
        "# # 9 classification\n",
        "# fine2coarse = np.zeros((fine_categories,coarse_categories))\n",
        "# fine2coarse[0,0] = 1\n",
        "# fine2coarse[1,5] = 1\n",
        "# fine2coarse[2,5] = 1\n",
        "# fine2coarse[3,0] = 1\n",
        "# fine2coarse[4,9] = 1\n",
        "# fine2coarse[5,10] = 1\n",
        "# fine2coarse[6,3] = 1\n",
        "# fine2coarse[7,7] = 1\n",
        "# fine2coarse[8,4] = 1\n",
        "# fine2coarse[9,2] = 1\n",
        "# fine2coarse[10,6] = 1\n",
        "# fine2coarse[11,5] = 1\n",
        "# fine2coarse[12,8] = 1\n",
        "# fine2coarse[13,9] = 1\n",
        "# fine2coarse[14,4] = 1\n",
        "# fine2coarse[15,2] = 1\n",
        "# fine2coarse[16,4] = 1\n",
        "# fine2coarse[17,6] = 1\n",
        "# fine2coarse[18,7] = 1\n",
        "# fine2coarse[19,3] = 1\n",
        "# fine2coarse[20,8] = 1\n",
        "# fine2coarse[21,5] = 1\n",
        "# fine2coarse[22,1] = 1\n",
        "# fine2coarse[23,4] = 1\n",
        "# fine2coarse[24,9] = 1"
      ]
    },
    {
      "cell_type": "code",
      "execution_count": 25,
      "metadata": {
        "id": "qCI15brE1t6r"
      },
      "outputs": [],
      "source": [
        "# 5 classification\n",
        "# fine2coarse = np.zeros((fine_categories,coarse_categories))\n",
        "# fine2coarse[0,0] = 1\n",
        "# fine2coarse[1,2] = 1\n",
        "# fine2coarse[2,2] = 1\n",
        "# fine2coarse[3,0] = 1\n",
        "# fine2coarse[4,2] = 1\n",
        "# fine2coarse[5,2] = 1\n",
        "# fine2coarse[6,1] = 1\n",
        "# fine2coarse[7,3] = 1\n",
        "# fine2coarse[8,2] = 1\n",
        "# fine2coarse[9,1] = 1\n",
        "# fine2coarse[10,2] = 1\n",
        "# fine2coarse[11,3] = 1\n",
        "# fine2coarse[12,2] = 1\n",
        "# fine2coarse[13,1] = 1\n",
        "# fine2coarse[14,3] = 1\n",
        "# fine2coarse[15,3] = 1\n",
        "# fine2coarse[16,1] = 1\n",
        "# fine2coarse[17,3] = 1\n",
        "# fine2coarse[18,2] = 1\n",
        "# fine2coarse[19,1] = 1\n",
        "# fine2coarse[20,3] = 1\n",
        "# fine2coarse[21,4] = 1\n",
        "# fine2coarse[22,1] = 1\n",
        "# fine2coarse[23,4] = 1\n",
        "# fine2coarse[24,4] = 1"
      ]
    },
    {
      "cell_type": "code",
      "execution_count": 26,
      "metadata": {
        "id": "DAComiu_NOlg"
      },
      "outputs": [],
      "source": [
        "# 2 classification\n",
        "# fine2coarse = np.zeros((fine_categories,coarse_categories))\n",
        "# fine2coarse[0,0] = 1\n",
        "# fine2coarse[1,1] = 1\n",
        "# fine2coarse[2,1] = 1\n",
        "# fine2coarse[3,0] = 1\n",
        "# fine2coarse[4,1] = 1\n",
        "# fine2coarse[5,1] = 1\n",
        "# fine2coarse[6,0] = 1\n",
        "# fine2coarse[7,1] = 1\n",
        "# fine2coarse[8,0] = 1\n",
        "# fine2coarse[9,0] = 1\n",
        "# fine2coarse[10,1] = 1\n",
        "# fine2coarse[11,1] = 1\n",
        "# fine2coarse[12,1] = 1\n",
        "# fine2coarse[13,1] = 1\n",
        "# fine2coarse[14,0] = 1\n",
        "# fine2coarse[15,0] = 1\n",
        "# fine2coarse[16,0] = 1\n",
        "# fine2coarse[17,1] = 1\n",
        "# fine2coarse[18,1] = 1\n",
        "# fine2coarse[19,0] = 1\n",
        "# fine2coarse[20,1] = 1\n",
        "# fine2coarse[21,1] = 1\n",
        "# fine2coarse[22,0] = 1\n",
        "# fine2coarse[23,0] = 1\n",
        "# fine2coarse[24,1] = 1"
      ]
    },
    {
      "cell_type": "code",
      "execution_count": 27,
      "metadata": {
        "id": "E5H6y_PEaOMC"
      },
      "outputs": [],
      "source": [
        "# with np.printoptions(threshold=np.inf):\n",
        "#     print(fine2coarse)"
      ]
    },
    {
      "cell_type": "markdown",
      "metadata": {
        "id": "33-wnYgdDjOZ"
      },
      "source": [
        "**Split Training set into Training and Validation sets**"
      ]
    },
    {
      "cell_type": "code",
      "execution_count": 28,
      "metadata": {
        "id": "elDqccurDjOZ"
      },
      "outputs": [],
      "source": [
        "x_train, x_val, y_train, y_val = train_test_split(X_fine, y_fine, test_size=.2,random_state=1234)"
      ]
    },
    {
      "cell_type": "code",
      "execution_count": null,
      "metadata": {
        "id": "WTmCiLQwjVx1"
      },
      "outputs": [],
      "source": [
        "import matplotlib.pyplot as plt\n",
        "from IPython.core.display import display, HTML\n",
        "\n",
        "for i in range(0,10):\n",
        "    image = x_train[i]\n",
        "    plt.imshow(image)\n",
        "    plt.show()\n",
        "    print(np.where(y_train[i] == 1)[0])\n",
        "\n",
        "\n",
        "for i in range(0,10):\n",
        "    image = x_val[i]\n",
        "    plt.imshow(image)\n",
        "    plt.show()\n",
        "    print(np.where(y_train[i] == 1)[0])"
      ]
    },
    {
      "cell_type": "markdown",
      "metadata": {
        "id": "8oUI-QnFDjOc"
      },
      "source": [
        "**Constructing CNN**"
      ]
    },
    {
      "cell_type": "code",
      "execution_count": 30,
      "metadata": {
        "id": "ILCBmsHkDjOc",
        "colab": {
          "base_uri": "https://localhost:8080/"
        },
        "outputId": "cac7df0d-4ce7-4cc6-f0b5-29a7929aec5c"
      },
      "outputs": [
        {
          "output_type": "stream",
          "name": "stdout",
          "text": [
            "WARNING:tensorflow:From /usr/local/lib/python3.7/dist-packages/keras/layers/normalization/batch_normalization.py:532: _colocate_with (from tensorflow.python.framework.ops) is deprecated and will be removed in a future version.\n",
            "Instructions for updating:\n",
            "Colocations handled automatically by placer.\n"
          ]
        }
      ],
      "source": [
        "from keras import optimizers\n",
        "from keras.layers import Input, Conv2D, Dropout, MaxPooling2D, Flatten, Dense, BatchNormalization\n",
        "from keras.models import Model\n",
        "\n",
        "in_layer = Input(shape=(64,64, 3), dtype='float32', name='main_input')\n",
        "\n",
        "net = Conv2D(64, 3, strides=1, padding='same', activation='relu')(in_layer)\n",
        "net = BatchNormalization()(net)\n",
        "net = MaxPooling2D((2, 2), padding='valid')(net)\n",
        "\n",
        "net = Conv2D(128, 3, strides=1, padding='same', activation='relu')(net)\n",
        "net = BatchNormalization()(net)\n",
        "net = Dropout(.1)(net)\n",
        "net = MaxPooling2D((2, 2), padding='valid')(net)\n",
        "\n",
        "net = Conv2D(256, 3, strides=1, padding='same', activation='relu')(net)\n",
        "net = BatchNormalization()(net)\n",
        "net = Dropout(.2)(net)\n",
        "net = MaxPooling2D((2, 2), padding='valid')(net)\n",
        "\n",
        "net = Conv2D(512, 3, strides=1, padding='same', activation='relu')(net)\n",
        "net = BatchNormalization()(net)\n",
        "net = Dropout(.3)(net)\n",
        "net = MaxPooling2D((2, 2), padding='valid')(net)\n",
        "\n",
        "net = Flatten()(net)\n",
        "\n",
        "net = Dense(1024, activation='relu')(net)\n",
        "net = BatchNormalization()(net)\n",
        "net = Dropout(.3)(net)\n",
        "net = Dense(25, activation='softmax')(net)"
      ]
    },
    {
      "cell_type": "markdown",
      "metadata": {
        "id": "_2rtuFv9DjOc"
      },
      "source": [
        "**Compile Model**"
      ]
    },
    {
      "cell_type": "code",
      "execution_count": 31,
      "metadata": {
        "id": "xJsd6YQ6DjOc"
      },
      "outputs": [],
      "source": [
        "model = Model(inputs=in_layer,outputs=net)\n",
        "adam_coarse = tf.keras.optimizers.Adam(learning_rate=0.001)\n",
        "model.compile(optimizer= adam_coarse, loss='categorical_crossentropy', metrics=['accuracy'])\n",
        "tbCallBack = kr.callbacks.TensorBoard(log_dir='./data/graph/relu_drop/', histogram_freq=0, write_graph=True, write_images=True)"
      ]
    },
    {
      "cell_type": "code",
      "execution_count": 32,
      "metadata": {
        "id": "0u_oZwXndb4R"
      },
      "outputs": [],
      "source": [
        "batch = 16"
      ]
    },
    {
      "cell_type": "markdown",
      "metadata": {
        "id": "iVJdJDduDjOd"
      },
      "source": [
        "**Train Model**"
      ]
    },
    {
      "cell_type": "code",
      "execution_count": 33,
      "metadata": {
        "colab": {
          "base_uri": "https://localhost:8080/"
        },
        "id": "Y47GeFu4DjOd",
        "outputId": "d08ffac8-a907-4450-c8f5-3012af284028"
      },
      "outputs": [
        {
          "output_type": "stream",
          "name": "stdout",
          "text": [
            "Train on 8090 samples, validate on 2023 samples\n",
            "Epoch 1/5\n",
            "8090/8090 [==============================] - ETA: 0s - loss: 3.2123 - acc: 0.1507"
          ]
        },
        {
          "output_type": "stream",
          "name": "stderr",
          "text": [
            "/usr/local/lib/python3.7/dist-packages/keras/engine/training_v1.py:2057: UserWarning: `Model.state_updates` will be removed in a future version. This property should not be used in TensorFlow 2.0, as `updates` are applied automatically.\n",
            "  updates = self.state_updates\n"
          ]
        },
        {
          "output_type": "stream",
          "name": "stdout",
          "text": [
            "\b\b\b\b\b\b\b\b\b\b\b\b\b\b\b\b\b\b\b\b\b\b\b\b\b\b\b\b\b\b\b\b\b\b\b\b\b\b\b\b\b\b\b\b\b\b\b\b\b\b\b\b\b\b\b\b\b\b\b\b\b\b\b\b\b\b\b\b\b\b\b\b\b\b\b\b\b\b\b\b\b\r8090/8090 [==============================] - 33s 4ms/sample - loss: 3.2123 - acc: 0.1507 - val_loss: 4.1173 - val_acc: 0.1592\n",
            "Epoch 2/5\n",
            "8090/8090 [==============================] - 21s 3ms/sample - loss: 2.6688 - acc: 0.2473 - val_loss: 3.6420 - val_acc: 0.2570\n",
            "Epoch 3/5\n",
            "8090/8090 [==============================] - 21s 3ms/sample - loss: 2.3509 - acc: 0.3215 - val_loss: 5.2631 - val_acc: 0.2986\n",
            "Epoch 4/5\n",
            "8090/8090 [==============================] - 21s 3ms/sample - loss: 2.0644 - acc: 0.3812 - val_loss: 2.8437 - val_acc: 0.3134\n",
            "Epoch 5/5\n",
            "8090/8090 [==============================] - 21s 3ms/sample - loss: 1.8639 - acc: 0.4388 - val_loss: 2.5394 - val_acc: 0.3440\n",
            "Train on 8090 samples, validate on 2023 samples\n",
            "Epoch 6/10\n",
            "8090/8090 [==============================] - 21s 3ms/sample - loss: 1.6734 - acc: 0.4901 - val_loss: 2.8481 - val_acc: 0.3312\n",
            "Epoch 7/10\n",
            "8090/8090 [==============================] - 21s 3ms/sample - loss: 1.4296 - acc: 0.5591 - val_loss: 2.5701 - val_acc: 0.3816\n",
            "Epoch 8/10\n",
            "8090/8090 [==============================] - 21s 3ms/sample - loss: 1.1435 - acc: 0.6387 - val_loss: 2.9769 - val_acc: 0.3890\n",
            "Epoch 9/10\n",
            "8090/8090 [==============================] - 21s 3ms/sample - loss: 0.8949 - acc: 0.7106 - val_loss: 3.5035 - val_acc: 0.3584\n",
            "Epoch 10/10\n",
            "8090/8090 [==============================] - 21s 3ms/sample - loss: 0.7068 - acc: 0.7722 - val_loss: 3.5907 - val_acc: 0.3623\n",
            "Train on 8090 samples, validate on 2023 samples\n",
            "Epoch 11/15\n",
            "8090/8090 [==============================] - 21s 3ms/sample - loss: 0.6397 - acc: 0.7936 - val_loss: 3.6739 - val_acc: 0.3668\n",
            "Epoch 12/15\n",
            "8090/8090 [==============================] - 21s 3ms/sample - loss: 0.5772 - acc: 0.8057 - val_loss: 3.3157 - val_acc: 0.3979\n",
            "Epoch 13/15\n",
            "8090/8090 [==============================] - 21s 3ms/sample - loss: 0.4438 - acc: 0.8612 - val_loss: 3.9177 - val_acc: 0.3722\n",
            "Epoch 14/15\n",
            "8090/8090 [==============================] - 21s 3ms/sample - loss: 0.4445 - acc: 0.8556 - val_loss: 3.4051 - val_acc: 0.3910\n",
            "Epoch 15/15\n",
            "8090/8090 [==============================] - 21s 3ms/sample - loss: 0.2959 - acc: 0.9032 - val_loss: 3.6556 - val_acc: 0.4103\n",
            "Train on 8090 samples, validate on 2023 samples\n",
            "Epoch 16/20\n",
            "8090/8090 [==============================] - 21s 3ms/sample - loss: 0.2547 - acc: 0.9141 - val_loss: 4.4803 - val_acc: 0.3534\n",
            "Epoch 17/20\n",
            "8090/8090 [==============================] - 21s 3ms/sample - loss: 0.3416 - acc: 0.8875 - val_loss: 4.7407 - val_acc: 0.3950\n",
            "Epoch 18/20\n",
            "8090/8090 [==============================] - 21s 3ms/sample - loss: 0.2792 - acc: 0.9116 - val_loss: 4.9597 - val_acc: 0.3534\n",
            "Epoch 19/20\n",
            "8090/8090 [==============================] - 21s 3ms/sample - loss: 0.3766 - acc: 0.8802 - val_loss: 4.0559 - val_acc: 0.3895\n",
            "Epoch 20/20\n",
            "8090/8090 [==============================] - 21s 3ms/sample - loss: 0.3011 - acc: 0.9038 - val_loss: 4.4187 - val_acc: 0.3930\n",
            "Train on 8090 samples, validate on 2023 samples\n",
            "Epoch 21/25\n",
            "8090/8090 [==============================] - 20s 3ms/sample - loss: 0.2260 - acc: 0.9252 - val_loss: 4.3695 - val_acc: 0.3861\n",
            "Epoch 22/25\n",
            "8090/8090 [==============================] - 20s 3ms/sample - loss: 0.2761 - acc: 0.9104 - val_loss: 4.4515 - val_acc: 0.3969\n",
            "Epoch 23/25\n",
            "8090/8090 [==============================] - 20s 3ms/sample - loss: 0.2934 - acc: 0.9054 - val_loss: 4.5976 - val_acc: 0.3772\n",
            "Epoch 24/25\n",
            "8090/8090 [==============================] - 20s 3ms/sample - loss: 0.2659 - acc: 0.9127 - val_loss: 4.7694 - val_acc: 0.3999\n",
            "Epoch 25/25\n",
            "8090/8090 [==============================] - 20s 3ms/sample - loss: 0.2022 - acc: 0.9357 - val_loss: 4.5703 - val_acc: 0.3945\n",
            "Train on 8090 samples, validate on 2023 samples\n",
            "Epoch 26/30\n",
            "8090/8090 [==============================] - 20s 3ms/sample - loss: 0.1642 - acc: 0.9454 - val_loss: 4.8421 - val_acc: 0.4043\n",
            "Epoch 27/30\n",
            "8090/8090 [==============================] - 20s 3ms/sample - loss: 0.1174 - acc: 0.9638 - val_loss: 5.3066 - val_acc: 0.3915\n",
            "Epoch 28/30\n",
            "8090/8090 [==============================] - 21s 3ms/sample - loss: 0.1717 - acc: 0.9429 - val_loss: 4.9592 - val_acc: 0.4039\n",
            "Epoch 29/30\n",
            "8090/8090 [==============================] - 21s 3ms/sample - loss: 0.2310 - acc: 0.9282 - val_loss: 5.0435 - val_acc: 0.3915\n",
            "Epoch 30/30\n",
            "8090/8090 [==============================] - 20s 3ms/sample - loss: 0.1952 - acc: 0.9381 - val_loss: 4.8228 - val_acc: 0.4034\n"
          ]
        }
      ],
      "source": [
        "index= 0\n",
        "step = 5\n",
        "stop = 30\n",
        "\n",
        "\n",
        "while index < stop:\n",
        "    model.fit(x_train, y_train, batch_size=batch, initial_epoch=index, epochs=index+step, validation_data=(x_val, y_val), callbacks=[tbCallBack])\n",
        "    index += step\n",
        "    model.save_weights('data/models/model_coarse'+str(index))\n",
        "\n",
        "save_index = index"
      ]
    },
    {
      "cell_type": "code",
      "source": [
        "index = save_index\n",
        "stop = 100\n",
        "while index < stop:\n",
        "    model.fit(x_train, y_train, batch_size=batch, initial_epoch=index, epochs=index+step, validation_data=(x_val, y_val), callbacks=[tbCallBack])\n",
        "    index += step\n",
        "    model.save_weights('data/models/model_coarse'+str(index))"
      ],
      "metadata": {
        "colab": {
          "base_uri": "https://localhost:8080/"
        },
        "id": "3O-lVuZkfPob",
        "outputId": "d200f444-6b8c-4d5d-e0bf-e039f8132dd4"
      },
      "execution_count": 40,
      "outputs": [
        {
          "output_type": "stream",
          "name": "stdout",
          "text": [
            "Train on 8090 samples, validate on 2023 samples\n",
            "Epoch 31/35\n",
            "8090/8090 [==============================] - 20s 3ms/sample - loss: 0.1819 - acc: 0.9414 - val_loss: 4.9266 - val_acc: 0.4157\n",
            "Epoch 32/35\n",
            "8090/8090 [==============================] - 21s 3ms/sample - loss: 0.1943 - acc: 0.9362 - val_loss: 5.5917 - val_acc: 0.3604\n",
            "Epoch 33/35\n",
            "8090/8090 [==============================] - 21s 3ms/sample - loss: 0.2459 - acc: 0.9242 - val_loss: 5.2441 - val_acc: 0.3994\n",
            "Epoch 34/35\n",
            "8090/8090 [==============================] - 22s 3ms/sample - loss: 0.3270 - acc: 0.8986 - val_loss: 5.4734 - val_acc: 0.3777\n",
            "Epoch 35/35\n",
            "8090/8090 [==============================] - 21s 3ms/sample - loss: 0.2231 - acc: 0.9260 - val_loss: 4.9390 - val_acc: 0.3915\n",
            "Train on 8090 samples, validate on 2023 samples\n",
            "Epoch 36/40\n",
            "8090/8090 [==============================] - 21s 3ms/sample - loss: 0.1413 - acc: 0.9492 - val_loss: 5.0234 - val_acc: 0.3856\n",
            "Epoch 37/40\n",
            "8090/8090 [==============================] - 22s 3ms/sample - loss: 0.1304 - acc: 0.9553 - val_loss: 5.0357 - val_acc: 0.4192\n",
            "Epoch 38/40\n",
            "8090/8090 [==============================] - 22s 3ms/sample - loss: 0.1028 - acc: 0.9705 - val_loss: 4.8918 - val_acc: 0.4202\n",
            "Epoch 39/40\n",
            "8090/8090 [==============================] - 21s 3ms/sample - loss: 0.0793 - acc: 0.9727 - val_loss: 4.9540 - val_acc: 0.4276\n",
            "Epoch 40/40\n",
            "8090/8090 [==============================] - 20s 3ms/sample - loss: 0.1083 - acc: 0.9650 - val_loss: 5.6488 - val_acc: 0.4004\n",
            "Train on 8090 samples, validate on 2023 samples\n",
            "Epoch 41/45\n",
            "8090/8090 [==============================] - 21s 3ms/sample - loss: 0.1329 - acc: 0.9564 - val_loss: 8.4932 - val_acc: 0.3094\n",
            "Epoch 42/45\n",
            "8090/8090 [==============================] - 21s 3ms/sample - loss: 0.2284 - acc: 0.9250 - val_loss: 5.4747 - val_acc: 0.3856\n",
            "Epoch 43/45\n",
            "8090/8090 [==============================] - 21s 3ms/sample - loss: 0.1978 - acc: 0.9354 - val_loss: 5.1931 - val_acc: 0.4088\n",
            "Epoch 44/45\n",
            "8090/8090 [==============================] - 21s 3ms/sample - loss: 0.1167 - acc: 0.9632 - val_loss: 5.5568 - val_acc: 0.3969\n",
            "Epoch 45/45\n",
            "8090/8090 [==============================] - 21s 3ms/sample - loss: 0.1154 - acc: 0.9619 - val_loss: 5.0630 - val_acc: 0.4058\n",
            "Train on 8090 samples, validate on 2023 samples\n",
            "Epoch 46/50\n",
            "8090/8090 [==============================] - 21s 3ms/sample - loss: 0.1150 - acc: 0.9640 - val_loss: 5.8085 - val_acc: 0.3950\n",
            "Epoch 47/50\n",
            "8090/8090 [==============================] - 21s 3ms/sample - loss: 0.1338 - acc: 0.9551 - val_loss: 5.1702 - val_acc: 0.4128\n",
            "Epoch 48/50\n",
            "8090/8090 [==============================] - 21s 3ms/sample - loss: 0.1101 - acc: 0.9640 - val_loss: 5.1279 - val_acc: 0.4048\n",
            "Epoch 49/50\n",
            "8090/8090 [==============================] - 21s 3ms/sample - loss: 0.1073 - acc: 0.9638 - val_loss: 5.3648 - val_acc: 0.4167\n",
            "Epoch 50/50\n",
            "8090/8090 [==============================] - 21s 3ms/sample - loss: 0.1074 - acc: 0.9676 - val_loss: 5.3095 - val_acc: 0.4103\n",
            "Train on 8090 samples, validate on 2023 samples\n",
            "Epoch 51/55\n",
            "8090/8090 [==============================] - 21s 3ms/sample - loss: 0.1260 - acc: 0.9590 - val_loss: 5.6682 - val_acc: 0.4039\n",
            "Epoch 52/55\n",
            "8090/8090 [==============================] - 21s 3ms/sample - loss: 0.1107 - acc: 0.9644 - val_loss: 5.5800 - val_acc: 0.4113\n",
            "Epoch 53/55\n",
            "8090/8090 [==============================] - 21s 3ms/sample - loss: 0.1014 - acc: 0.9666 - val_loss: 5.3772 - val_acc: 0.4118\n",
            "Epoch 54/55\n",
            "8090/8090 [==============================] - 21s 3ms/sample - loss: 0.0867 - acc: 0.9729 - val_loss: 5.3288 - val_acc: 0.4128\n",
            "Epoch 55/55\n",
            "8090/8090 [==============================] - 21s 3ms/sample - loss: 0.0982 - acc: 0.9664 - val_loss: 5.9370 - val_acc: 0.3900\n",
            "Train on 8090 samples, validate on 2023 samples\n",
            "Epoch 56/60\n",
            "8090/8090 [==============================] - 20s 3ms/sample - loss: 0.1545 - acc: 0.9515 - val_loss: 5.8721 - val_acc: 0.4024\n",
            "Epoch 57/60\n",
            "8090/8090 [==============================] - 21s 3ms/sample - loss: 0.1446 - acc: 0.9534 - val_loss: 5.5003 - val_acc: 0.4128\n",
            "Epoch 58/60\n",
            "8090/8090 [==============================] - 21s 3ms/sample - loss: 0.1199 - acc: 0.9617 - val_loss: 5.5014 - val_acc: 0.4088\n",
            "Epoch 59/60\n",
            "8090/8090 [==============================] - 20s 3ms/sample - loss: 0.1165 - acc: 0.9639 - val_loss: 5.5680 - val_acc: 0.4043\n",
            "Epoch 60/60\n",
            "8090/8090 [==============================] - 21s 3ms/sample - loss: 0.0924 - acc: 0.9700 - val_loss: 5.9524 - val_acc: 0.4073\n",
            "Train on 8090 samples, validate on 2023 samples\n",
            "Epoch 61/65\n",
            "8090/8090 [==============================] - 21s 3ms/sample - loss: 0.1120 - acc: 0.9635 - val_loss: 5.7335 - val_acc: 0.4039\n",
            "Epoch 62/65\n",
            "8090/8090 [==============================] - 21s 3ms/sample - loss: 0.1457 - acc: 0.9550 - val_loss: 5.5506 - val_acc: 0.4093\n",
            "Epoch 63/65\n",
            "8090/8090 [==============================] - 21s 3ms/sample - loss: 0.1206 - acc: 0.9627 - val_loss: 5.7580 - val_acc: 0.4063\n",
            "Epoch 64/65\n",
            "8090/8090 [==============================] - 21s 3ms/sample - loss: 0.0914 - acc: 0.9690 - val_loss: 5.5475 - val_acc: 0.4123\n",
            "Epoch 65/65\n",
            "8090/8090 [==============================] - 21s 3ms/sample - loss: 0.0755 - acc: 0.9756 - val_loss: 5.7086 - val_acc: 0.3940\n",
            "Train on 8090 samples, validate on 2023 samples\n",
            "Epoch 66/70\n",
            "8090/8090 [==============================] - 21s 3ms/sample - loss: 0.0930 - acc: 0.9713 - val_loss: 5.6888 - val_acc: 0.4113\n",
            "Epoch 67/70\n",
            "8090/8090 [==============================] - 21s 3ms/sample - loss: 0.1137 - acc: 0.9635 - val_loss: 5.8929 - val_acc: 0.3935\n",
            "Epoch 68/70\n",
            "8090/8090 [==============================] - 21s 3ms/sample - loss: 0.0861 - acc: 0.9727 - val_loss: 5.8541 - val_acc: 0.4034\n",
            "Epoch 69/70\n",
            "8090/8090 [==============================] - 21s 3ms/sample - loss: 0.0911 - acc: 0.9687 - val_loss: 5.7798 - val_acc: 0.4108\n",
            "Epoch 70/70\n",
            "8090/8090 [==============================] - 20s 3ms/sample - loss: 0.0657 - acc: 0.9784 - val_loss: 5.7021 - val_acc: 0.4128\n",
            "Train on 8090 samples, validate on 2023 samples\n",
            "Epoch 71/75\n",
            "8090/8090 [==============================] - 21s 3ms/sample - loss: 0.0947 - acc: 0.9701 - val_loss: 6.1584 - val_acc: 0.3935\n",
            "Epoch 72/75\n",
            "8090/8090 [==============================] - 21s 3ms/sample - loss: 0.0930 - acc: 0.9719 - val_loss: 5.5571 - val_acc: 0.4226\n",
            "Epoch 73/75\n",
            "8090/8090 [==============================] - 20s 3ms/sample - loss: 0.0829 - acc: 0.9728 - val_loss: 5.7420 - val_acc: 0.4068\n",
            "Epoch 74/75\n",
            "8090/8090 [==============================] - 20s 3ms/sample - loss: 0.0746 - acc: 0.9743 - val_loss: 5.7196 - val_acc: 0.4197\n",
            "Epoch 75/75\n",
            "8090/8090 [==============================] - 21s 3ms/sample - loss: 0.0560 - acc: 0.9816 - val_loss: 5.8648 - val_acc: 0.4009\n",
            "Train on 8090 samples, validate on 2023 samples\n",
            "Epoch 76/80\n",
            "8090/8090 [==============================] - 21s 3ms/sample - loss: 0.0834 - acc: 0.9749 - val_loss: 5.9523 - val_acc: 0.4147\n",
            "Epoch 77/80\n",
            "8090/8090 [==============================] - 20s 3ms/sample - loss: 0.1419 - acc: 0.9576 - val_loss: 5.8544 - val_acc: 0.4142\n",
            "Epoch 78/80\n",
            "8090/8090 [==============================] - 21s 3ms/sample - loss: 0.0807 - acc: 0.9723 - val_loss: 5.5284 - val_acc: 0.4286\n",
            "Epoch 79/80\n",
            "8090/8090 [==============================] - 21s 3ms/sample - loss: 0.0808 - acc: 0.9743 - val_loss: 6.0811 - val_acc: 0.4053\n",
            "Epoch 80/80\n",
            "8090/8090 [==============================] - 21s 3ms/sample - loss: 0.0851 - acc: 0.9708 - val_loss: 6.0060 - val_acc: 0.4039\n",
            "Train on 8090 samples, validate on 2023 samples\n",
            "Epoch 81/85\n",
            "8090/8090 [==============================] - 21s 3ms/sample - loss: 0.0711 - acc: 0.9787 - val_loss: 5.6546 - val_acc: 0.4286\n",
            "Epoch 82/85\n",
            "8090/8090 [==============================] - 20s 3ms/sample - loss: 0.0602 - acc: 0.9797 - val_loss: 6.1094 - val_acc: 0.4088\n",
            "Epoch 83/85\n",
            "8090/8090 [==============================] - 21s 3ms/sample - loss: 0.0574 - acc: 0.9824 - val_loss: 5.7612 - val_acc: 0.4063\n",
            "Epoch 84/85\n",
            "8090/8090 [==============================] - 21s 3ms/sample - loss: 0.0663 - acc: 0.9780 - val_loss: 5.6686 - val_acc: 0.4177\n",
            "Epoch 85/85\n",
            "8090/8090 [==============================] - 21s 3ms/sample - loss: 0.0676 - acc: 0.9775 - val_loss: 5.8941 - val_acc: 0.3890\n",
            "Train on 8090 samples, validate on 2023 samples\n",
            "Epoch 86/90\n",
            "8090/8090 [==============================] - 21s 3ms/sample - loss: 0.0754 - acc: 0.9774 - val_loss: 6.0857 - val_acc: 0.4083\n",
            "Epoch 87/90\n",
            "8090/8090 [==============================] - 21s 3ms/sample - loss: 0.0666 - acc: 0.9792 - val_loss: 6.3844 - val_acc: 0.3905\n",
            "Epoch 88/90\n",
            "8090/8090 [==============================] - 21s 3ms/sample - loss: 0.0840 - acc: 0.9737 - val_loss: 6.1031 - val_acc: 0.4132\n",
            "Epoch 89/90\n",
            "8090/8090 [==============================] - 21s 3ms/sample - loss: 0.0807 - acc: 0.9749 - val_loss: 7.6820 - val_acc: 0.3297\n",
            "Epoch 90/90\n",
            "8090/8090 [==============================] - 21s 3ms/sample - loss: 0.1167 - acc: 0.9627 - val_loss: 5.9770 - val_acc: 0.4068\n",
            "Train on 8090 samples, validate on 2023 samples\n",
            "Epoch 91/95\n",
            "8090/8090 [==============================] - 21s 3ms/sample - loss: 0.0703 - acc: 0.9774 - val_loss: 5.9460 - val_acc: 0.4147\n",
            "Epoch 92/95\n",
            "8090/8090 [==============================] - 21s 3ms/sample - loss: 0.0925 - acc: 0.9707 - val_loss: 6.2823 - val_acc: 0.4048\n",
            "Epoch 93/95\n",
            "8090/8090 [==============================] - 21s 3ms/sample - loss: 0.0804 - acc: 0.9735 - val_loss: 6.0932 - val_acc: 0.3989\n",
            "Epoch 94/95\n",
            "8090/8090 [==============================] - 21s 3ms/sample - loss: 0.0590 - acc: 0.9817 - val_loss: 5.9155 - val_acc: 0.4152\n",
            "Epoch 95/95\n",
            "8090/8090 [==============================] - 21s 3ms/sample - loss: 0.0555 - acc: 0.9823 - val_loss: 5.8452 - val_acc: 0.4108\n",
            "Train on 8090 samples, validate on 2023 samples\n",
            "Epoch 96/100\n",
            "8090/8090 [==============================] - 21s 3ms/sample - loss: 0.0432 - acc: 0.9848 - val_loss: 5.8100 - val_acc: 0.4142\n",
            "Epoch 97/100\n",
            "8090/8090 [==============================] - 21s 3ms/sample - loss: 0.0469 - acc: 0.9841 - val_loss: 5.7500 - val_acc: 0.4192\n",
            "Epoch 98/100\n",
            "8090/8090 [==============================] - 21s 3ms/sample - loss: 0.0478 - acc: 0.9839 - val_loss: 6.0298 - val_acc: 0.4207\n",
            "Epoch 99/100\n",
            "8090/8090 [==============================] - 21s 3ms/sample - loss: 0.0502 - acc: 0.9850 - val_loss: 5.8305 - val_acc: 0.4286\n",
            "Epoch 100/100\n",
            "8090/8090 [==============================] - 21s 3ms/sample - loss: 0.0632 - acc: 0.9796 - val_loss: 6.5021 - val_acc: 0.3959\n"
          ]
        }
      ]
    },
    {
      "cell_type": "code",
      "source": [
        "adam_fine =  tf.keras.optimizers.Adam(learning_rate=0.0001)\n",
        "\n",
        "for i in range(len(model.layers)):\n",
        "    model.layers[i].trainable=False"
      ],
      "metadata": {
        "id": "0YwubElifsWL"
      },
      "execution_count": null,
      "outputs": []
    },
    {
      "cell_type": "code",
      "source": [
        "y_pred = model.predict(x_val,batch_size=batch).argmax(axis = 1).reshape(-1,1)"
      ],
      "metadata": {
        "id": "f7aqzu7GcIEG"
      },
      "execution_count": 90,
      "outputs": []
    },
    {
      "cell_type": "code",
      "source": [
        "print(x_val.shape)\n",
        "print(y_pred.shape)\n",
        "labels = y_val.argmax(axis = 1)\n",
        "print(labels.shape)"
      ],
      "metadata": {
        "colab": {
          "base_uri": "https://localhost:8080/"
        },
        "id": "-zALUogZlQm2",
        "outputId": "5c9ba1a9-f1f3-4d25-8b39-c3305294a4fc"
      },
      "execution_count": 91,
      "outputs": [
        {
          "output_type": "stream",
          "name": "stdout",
          "text": [
            "(2023, 64, 64, 3)\n",
            "(2023, 1)\n",
            "(2023,)\n"
          ]
        }
      ]
    },
    {
      "cell_type": "code",
      "source": [
        "x_flat = x_val.reshape(x_val.shape[0],-1)\n",
        "x_flat.shape"
      ],
      "metadata": {
        "colab": {
          "base_uri": "https://localhost:8080/"
        },
        "id": "lNHr7pG2lmaN",
        "outputId": "bafc5ed7-9ac2-4d10-f35b-b3e806f5d301"
      },
      "execution_count": 87,
      "outputs": [
        {
          "output_type": "execute_result",
          "data": {
            "text/plain": [
              "(2023, 12288)"
            ]
          },
          "metadata": {},
          "execution_count": 87
        }
      ]
    },
    {
      "cell_type": "code",
      "source": [
        "selector = np.random.randint(0,x_flat.shape[0],size = 1000)\n",
        "x_sel = x_flat[selector,:]\n",
        "y_sel = y_pred[selector,:]\n",
        "vis_X = np.hstack((x_sel,y_sel))\n",
        "print(vis_X.shape)"
      ],
      "metadata": {
        "colab": {
          "base_uri": "https://localhost:8080/"
        },
        "id": "OCsBqGNVu_J-",
        "outputId": "d087643e-b1a9-4dc7-c021-d9783ba6db95"
      },
      "execution_count": 94,
      "outputs": [
        {
          "output_type": "stream",
          "name": "stdout",
          "text": [
            "(1000, 12289)\n"
          ]
        }
      ]
    },
    {
      "cell_type": "code",
      "source": [
        "import numpy as np\n",
        "from sklearn.manifold import TSNE\n",
        "import time\n",
        "import matplotlib.pyplot as plt\n",
        "import seaborn as sns\n",
        "\n",
        "def visualize(X, y_target):\n",
        "\n",
        "    tsne = TSNE(perplexity=30, n_components=2, init='pca', n_iter=5000,random_state=135)\n",
        "    low_dim_embs = tsne.fit_transform(X)\n",
        "    labels = y_target.ravel()\n",
        "\n",
        "    X, Y = low_dim_embs[:, 0], low_dim_embs[:, 1]\n",
        "\n",
        "    classes = list(np.unique(labels))\n",
        "    markers = 'os' * len(classes)\n",
        "    colors = sns.color_palette(\"husl\",len(classes))\n",
        "    for x, y, s in zip(X, Y, labels):\n",
        "        i = int(s)\n",
        "        plt.scatter(x, y, marker=markers[i], c=[colors[i]], alpha=0.3)\n",
        "    plt.xlim(X.min(), X.max())\n",
        "    plt.ylim(Y.min(), Y.max())\n",
        "    # plt.figure(figsize=(5,5))\n",
        "    plt.title('Visualize last layer')\n",
        "\n",
        "    plt.legend()\n",
        "    plt.axis(\"off\")\n",
        "\n",
        "    plt.show()"
      ],
      "metadata": {
        "id": "98BIZXe2f-95"
      },
      "execution_count": 76,
      "outputs": []
    },
    {
      "cell_type": "code",
      "source": [
        "visualize(vis_X, labels)"
      ],
      "metadata": {
        "colab": {
          "base_uri": "https://localhost:8080/",
          "height": 373
        },
        "id": "O0jGs9HSgBxw",
        "outputId": "1860f575-011b-442b-a0e9-ef27eb9f15d4"
      },
      "execution_count": 96,
      "outputs": [
        {
          "output_type": "stream",
          "name": "stderr",
          "text": [
            "/usr/local/lib/python3.7/dist-packages/sklearn/manifold/_t_sne.py:793: FutureWarning: The default learning rate in TSNE will change from 200.0 to 'auto' in 1.2.\n",
            "  FutureWarning,\n",
            "/usr/local/lib/python3.7/dist-packages/sklearn/manifold/_t_sne.py:986: FutureWarning: The PCA initialization in TSNE will change to have the standard deviation of PC1 equal to 1e-4 in 1.2. This will ensure better convergence.\n",
            "  FutureWarning,\n",
            "No handles with labels found to put in legend.\n"
          ]
        },
        {
          "output_type": "display_data",
          "data": {
            "text/plain": [
              "<Figure size 432x288 with 1 Axes>"
            ],
            "image/png": "[encoded data removed]"
          },
          "metadata": {
            "needs_background": "light"
          }
        }
      ]
    }
  ],
  "metadata": {
    "accelerator": "GPU",
    "colab": {
      "collapsed_sections": [],
      "machine_shape": "hm",
      "name": "cnn_tf.ipynb",
      "provenance": []
    },
    "kernelspec": {
      "display_name": "Environment (conda_tensorflow_p36)",
      "language": "python",
      "name": "conda_tensorflow_p36"
    },
    "language_info": {
      "codemirror_mode": {
        "name": "ipython",
        "version": 3
      },
      "file_extension": ".py",
      "mimetype": "text/x-python",
      "name": "python",
      "nbconvert_exporter": "python",
      "pygments_lexer": "ipython3",
      "version": "3.6.4"
    },
    "toc": {
      "colors": {
        "hover_highlight": "#DAA520",
        "running_highlight": "#FF0000",
        "selected_highlight": "#FFD700"
      },
      "moveMenuLeft": true,
      "nav_menu": {
        "height": "12px",
        "width": "252px"
      },
      "navigate_menu": true,
      "number_sections": true,
      "sideBar": true,
      "threshold": 4,
      "toc_cell": false,
      "toc_section_display": "block",
      "toc_window_display": false,
      "widenNotebook": false
    }
  },
  "nbformat": 4,
  "nbformat_minor": 0
}